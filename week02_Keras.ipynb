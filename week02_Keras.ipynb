{
  "nbformat": 4,
  "nbformat_minor": 0,
  "metadata": {
    "colab": {
      "name": "week02_Keras.ipynb",
      "version": "0.3.2",
      "provenance": [],
      "include_colab_link": true
    },
    "kernelspec": {
      "name": "python2",
      "display_name": "Python 2"
    },
    "accelerator": "GPU"
  },
  "cells": [
    {
      "cell_type": "markdown",
      "metadata": {
        "id": "view-in-github",
        "colab_type": "text"
      },
      "source": [
        "<a href=\"https://colab.research.google.com/github/axelBarroso/AdventOfCode_2017/blob/master/week02_Keras.ipynb\" target=\"_parent\"><img src=\"https://colab.research.google.com/assets/colab-badge.svg\" alt=\"Open In Colab\"/></a>"
      ]
    },
    {
      "metadata": {
        "id": "bb1Zl0tVSKCN",
        "colab_type": "text"
      },
      "cell_type": "markdown",
      "source": [
        "# **Starting with Keras**\n",
        "\n",
        "Keras is a high-level neural networks API, written in Python and capable of running on top of TensorFlow, CNTK, or Theano. It was developed with a focus on enabling fast experimentation. In other words, Keras is specially good for beginners, its modular, minimalist and its easy to get a neural network up and running in no time. \n",
        "\n",
        "Based on:\n",
        "- https://elitedatascience.com/keras-tutorial-deep-learning-in-python\n",
        "\n",
        "The following code is just a brief introduction to Keras, please, refer to [Keras documentation](https://keras.io/) to learn more about it."
      ]
    },
    {
      "metadata": {
        "id": "rF1rW5C1dS4R",
        "colab_type": "text"
      },
      "cell_type": "markdown",
      "source": [
        "# **Import Libraries and Modules**\n",
        "\n",
        "Colab already has everything you need installed. We highly recommend to use Colab for this tutorial, however, if you want to use your our environment, you will need to setup a Python environment and install Keras on it. \n",
        "\n",
        "You can find multiple guides that will help you on the task of installing Keras on your own machine. Some examples for [Windows](http://inmachineswetrust.com/posts/deep-learning-setup/) or [Ubuntu](https://medium.com/@naomi.fridman/install-conda-tensorflow-gpu-and-keras-on-ubuntu-18-04-1b403e740e25)."
      ]
    },
    {
      "metadata": {
        "id": "Wzb418Yih5SN",
        "colab_type": "text"
      },
      "cell_type": "markdown",
      "source": [
        "We will import numpy and set a seed for its pseudorandom number generator. This seed is important when results want to be reproduced, since different initialisation could led to varying results."
      ]
    },
    {
      "metadata": {
        "id": "VTilKf6uRhML",
        "colab_type": "code",
        "colab": {}
      },
      "cell_type": "code",
      "source": [
        "import numpy as np\n",
        "np.random.seed(123)  # for reproducibility"
      ],
      "execution_count": 0,
      "outputs": []
    },
    {
      "metadata": {
        "id": "ob8EYZ89h96k",
        "colab_type": "text"
      },
      "cell_type": "markdown",
      "source": [
        "Now, we are ready to start importing Keras' modules.\n",
        "\n",
        "We will import the Sequential model from Keras. Sequential module is a simply linear stack of neural network layers, and it will be used when creating our first feed-forward network. \n"
      ]
    },
    {
      "metadata": {
        "id": "tE570PePip7f",
        "colab_type": "code",
        "outputId": "cadad2d9-fc48-4068-c47f-f9a174230704",
        "colab": {
          "base_uri": "https://localhost:8080/",
          "height": 35
        }
      },
      "cell_type": "code",
      "source": [
        "from keras.models import Sequential"
      ],
      "execution_count": 0,
      "outputs": [
        {
          "output_type": "stream",
          "text": [
            "Using TensorFlow backend.\n"
          ],
          "name": "stderr"
        }
      ]
    },
    {
      "metadata": {
        "id": "IC1aRifsj4Eu",
        "colab_type": "text"
      },
      "cell_type": "markdown",
      "source": [
        "As displayed by Python console, we are using TensorFlow backend. As mentioned, Keras is a wrapper that allows us to use either Theano or TensorFlow backend. It is easy to switch between them if application requires. In this tutorial, we will use TensorFlow backend. \n",
        "\n",
        "Next, we will import the \"core\" layers to build a network on Keras. These are the most common layers in simple neural networks. It is a good moment now to refer to Keras documentation and learn more about them: [Dense](https://keras.io/layers/core/#dense), [Dropout](https://keras.io/layers/core/#dropout), [Activation](https://keras.io/layers/core/#activation) and [Flatten](https://keras.io/layers/core/#flatten)."
      ]
    },
    {
      "metadata": {
        "id": "Ua1JaDKTj5XO",
        "colab_type": "code",
        "colab": {}
      },
      "cell_type": "code",
      "source": [
        "from keras.layers import Dense, Dropout, Activation"
      ],
      "execution_count": 0,
      "outputs": []
    },
    {
      "metadata": {
        "id": "Vbm3UwLeKdDv",
        "colab_type": "text"
      },
      "cell_type": "markdown",
      "source": [
        "In addition, we import some utils, that will help us later with visualisation and transforming the dataset."
      ]
    },
    {
      "metadata": {
        "id": "yUVkzIz3KtXt",
        "colab_type": "code",
        "colab": {}
      },
      "cell_type": "code",
      "source": [
        "from keras.utils import np_utils\n",
        "import matplotlib.pyplot as plt"
      ],
      "execution_count": 0,
      "outputs": []
    },
    {
      "metadata": {
        "id": "ZBQn3bnIkpOE",
        "colab_type": "text"
      },
      "cell_type": "markdown",
      "source": [
        "# **Load datasets from Keras**\n",
        "\n",
        "Besides the modules to build our neural networks, Keras library also contains [standard datasets](https://keras.io/datasets/). The fact that those datasets are inside Keras makes it really handy and can save us a lot of time when learning how to create our first neural network. \n",
        "\n",
        "We will import image MNIST dataset and load it:"
      ]
    },
    {
      "metadata": {
        "id": "92F5A9XEIiVQ",
        "colab_type": "code",
        "colab": {}
      },
      "cell_type": "code",
      "source": [
        "from keras.datasets import mnist\n",
        "\n",
        "# the data, shuffled and split between train and test sets\n",
        "(X_train, y_train), (X_test, y_test) = mnist.load_data()"
      ],
      "execution_count": 0,
      "outputs": []
    },
    {
      "metadata": {
        "id": "nuHAmcCaImS8",
        "colab_type": "text"
      },
      "cell_type": "markdown",
      "source": [
        "Now we have on X_train/X_test variables the training/test partitions provided by Keras,  and on y_train/y_test their corresponding labels.\n",
        "\n",
        "We can now look into the shape of the data, and visualise some data examples:\n",
        "\n",
        "\n"
      ]
    },
    {
      "metadata": {
        "id": "l5o9qsfjJdNv",
        "colab_type": "code",
        "outputId": "a3fd9ba2-9ff2-41a6-80c5-c7770b788511",
        "colab": {
          "base_uri": "https://localhost:8080/",
          "height": 400
        }
      },
      "cell_type": "code",
      "source": [
        "print('Image shape: {0}'.format(X_train.shape[1:]))\n",
        "print('Total number of training samples: {0}'.format(X_train.shape[0]))\n",
        "print('Total number of test samples: {0}'.format(X_test.shape[0]))\n",
        "\n",
        "N=5\n",
        "start_val = 0 # pick an element for the code to plot the following N**2 values\n",
        "fig, axes = plt.subplots(N,N)\n",
        "items = list(range(0, 10))\n",
        "for row in range(N):\n",
        "  for col in range(N):\n",
        "    idx = start_val+row+N*col\n",
        "    axes[row,col].imshow(X_train[idx], cmap='gray')\n",
        "    fig.subplots_adjust(hspace=0.5)\n",
        "    y_target = int(y_train[idx])\n",
        "    target = str(items[y_target])\n",
        "    axes[row,col].set_title(target)\n",
        "    axes[row,col].set_xticks([])\n",
        "    axes[row,col].set_yticks([])"
      ],
      "execution_count": 0,
      "outputs": [
        {
          "output_type": "stream",
          "text": [
            "Image shape: (28, 28)\n",
            "Total number of training samples: 60000\n",
            "Total number of test samples: 10000\n"
          ],
          "name": "stdout"
        },
        {
          "output_type": "display_data",
          "data": {
            "image/png": "[encoded data removed]",
            "text/plain": [
              "<matplotlib.figure.Figure at 0x7fe586bb1d90>"
            ]
          },
          "metadata": {
            "tags": []
          }
        }
      ]
    },
    {
      "metadata": {
        "id": "WoNhnQtRNhHu",
        "colab_type": "text"
      },
      "cell_type": "markdown",
      "source": [
        "Therefore, we have 60,000 training samples and 1,000 test samples, where each images has a shape of 28 pixels x 28 pixels. It is a good advise to always visualise the data before starting to deploy any algorithm. It is a quick sanity check that can prevent easily avoidable mistakes."
      ]
    },
    {
      "metadata": {
        "id": "DohVlsvsN9np",
        "colab_type": "text"
      },
      "cell_type": "markdown",
      "source": [
        "# **Preprocess Keras dataset**\n",
        "\n",
        "The first example on this tutorials is an image dataset, where we will train a simple model to classify the digits on MNIST dataset. In oder to do so, we will reshape images to have a single dimension. Therefore, same network could be used for any 1D data.  We will see on following weeks that when using Convolutional Neural Networks we must define a 3D shape for images (depth, width, height), and it will get much higher results. "
      ]
    },
    {
      "metadata": {
        "id": "aa6-T9T9PABQ",
        "colab_type": "code",
        "outputId": "c3dcb571-e40a-4be1-9758-10050d9ec3fe",
        "colab": {
          "base_uri": "https://localhost:8080/",
          "height": 55
        }
      },
      "cell_type": "code",
      "source": [
        "X_train_flatten = X_train.reshape(X_train.shape[0], X_train.shape[1] * X_train.shape[2])\n",
        "X_test_flatten = X_test.reshape(X_test.shape[0], X_test.shape[1] * X_test.shape[2])\n",
        "\n",
        "print('New X_train shape: {0}'.format(X_train_flatten.shape))"
      ],
      "execution_count": 0,
      "outputs": [
        {
          "output_type": "stream",
          "text": [
            "New X_train shape: (60000, 784)\n"
          ],
          "name": "stdout"
        }
      ]
    },
    {
      "metadata": {
        "id": "aVLnq7URVwxH",
        "colab_type": "text"
      },
      "cell_type": "markdown",
      "source": [
        "Now we can normalise the dataset to the range [0, 1] and it will be ready for training the model."
      ]
    },
    {
      "metadata": {
        "id": "jbOITHGSV9WS",
        "colab_type": "code",
        "colab": {}
      },
      "cell_type": "code",
      "source": [
        "X_train_flatten = X_train_flatten.astype('float32')\n",
        "X_test_flatten = X_test_flatten.astype('float32')\n",
        "X_train_flatten /= 255\n",
        "X_test_flatten /= 255"
      ],
      "execution_count": 0,
      "outputs": []
    },
    {
      "metadata": {
        "id": "eZTwrNtOWNBe",
        "colab_type": "text"
      },
      "cell_type": "markdown",
      "source": [
        "Now that the data is ready to train the model, we also need to make ready the labels. The y_train and y_test labels are not split into 10 distinct class labels, but rather are represented as a single array with the class values. That could be fine if we present the problem as a regression one, but in this first example, we want to train a classifier. Therefore, we need to convert 1D value to a 10D vector, each dimension representing one digit value. \n",
        "\n",
        "\n"
      ]
    },
    {
      "metadata": {
        "id": "z-KifrbWXreU",
        "colab_type": "code",
        "outputId": "427aaa4d-bdb8-475c-cc90-5a95c70fbfda",
        "colab": {
          "base_uri": "https://localhost:8080/",
          "height": 55
        }
      },
      "cell_type": "code",
      "source": [
        "Y_train_class = np_utils.to_categorical(y_train, 10)\n",
        "Y_test_class = np_utils.to_categorical(y_test, 10)\n",
        "\n",
        "print('New Y_train shape: {0}'.format(Y_train_class.shape))"
      ],
      "execution_count": 0,
      "outputs": [
        {
          "output_type": "stream",
          "text": [
            "New Y_train shape: (60000, 10)\n"
          ],
          "name": "stdout"
        }
      ]
    },
    {
      "metadata": {
        "id": "OcgAG0OZLZ3W",
        "colab_type": "text"
      },
      "cell_type": "markdown",
      "source": [
        "# **Model Architecture**\n",
        "\n",
        "Defining model architectures is a critical step when trying to solve a task. In this week, we will understand how models can be build, starting from simplest model and then, building a more real example. In addition, here is a list of [implementation on Keras](https://github.com/keras-team/keras/tree/master/examples) that could be used to improve the following results. \n",
        "\n",
        "First, we need to declare a sequential model. A sequential model is a linear stack of neural network layers. We, therefore, can create a Sequential model by passing a list of layer instances to the constructor: "
      ]
    },
    {
      "metadata": {
        "id": "9_sJo3MbS1Lz",
        "colab_type": "code",
        "colab": {}
      },
      "cell_type": "code",
      "source": [
        "model = Sequential([\n",
        "    Dense(10, input_shape=(784,)),\n",
        "    Activation('softmax'),\n",
        "])"
      ],
      "execution_count": 0,
      "outputs": []
    },
    {
      "metadata": {
        "id": "iEVpTbQ9TX_u",
        "colab_type": "text"
      },
      "cell_type": "markdown",
      "source": [
        "Keras also allows us to simply add layers via the .add() method:"
      ]
    },
    {
      "metadata": {
        "id": "w-i9u2fbTZCk",
        "colab_type": "code",
        "colab": {}
      },
      "cell_type": "code",
      "source": [
        "model = Sequential()\n",
        "model.add(Dense(10, input_dim=784))\n",
        "model.add(Activation('softmax'))"
      ],
      "execution_count": 0,
      "outputs": []
    },
    {
      "metadata": {
        "id": "MDjFjqXBTuMf",
        "colab_type": "text"
      },
      "cell_type": "markdown",
      "source": [
        "The model needs to know what input shape is going to receive. For this reason, the first layer in a Sequential model (and only the first, because following layers can do automatic shape inference) needs to receive information about its input shape. As seen previously, after the flatten operation our images have a shape of 784. If we were using directly images, the input shape would be (1, 28, 28) that corresponds to the (depth, width, height) of each digit image.\n",
        "\n",
        "We now can check the model shape output:"
      ]
    },
    {
      "metadata": {
        "id": "h5CZJUssUW1b",
        "colab_type": "code",
        "outputId": "d11be699-7a16-4c0a-cbd7-68d3e76d8b52",
        "colab": {
          "base_uri": "https://localhost:8080/",
          "height": 35
        }
      },
      "cell_type": "code",
      "source": [
        "print model.output_shape"
      ],
      "execution_count": 0,
      "outputs": [
        {
          "output_type": "stream",
          "text": [
            "(None, 10)\n"
          ],
          "name": "stdout"
        }
      ]
    },
    {
      "metadata": {
        "id": "Kpz5BNJ8UnuP",
        "colab_type": "text"
      },
      "cell_type": "markdown",
      "source": [
        "The dense layer used in our model is a fully connected layer, where the first parameter is the output size of the layer. Keras automatically handles the connections between layers. Note that the final layer has an output size of 10, corresponding to the 10 classes of digits.\n",
        "\n",
        "We can see how our model looks like:"
      ]
    },
    {
      "metadata": {
        "id": "a37n1PQzU3BX",
        "colab_type": "code",
        "outputId": "bc3d2502-2bf6-42f1-9879-4520a983d100",
        "colab": {
          "base_uri": "https://localhost:8080/",
          "height": 217
        }
      },
      "cell_type": "code",
      "source": [
        "model.summary()"
      ],
      "execution_count": 0,
      "outputs": [
        {
          "output_type": "stream",
          "text": [
            "_________________________________________________________________\n",
            "Layer (type)                 Output Shape              Param #   \n",
            "=================================================================\n",
            "dense_2 (Dense)              (None, 10)                7850      \n",
            "_________________________________________________________________\n",
            "activation_2 (Activation)    (None, 10)                0         \n",
            "=================================================================\n",
            "Total params: 7,850\n",
            "Trainable params: 7,850\n",
            "Non-trainable params: 0\n",
            "_________________________________________________________________\n"
          ],
          "name": "stdout"
        }
      ]
    },
    {
      "metadata": {
        "id": "q_zb2cNDVaJi",
        "colab_type": "text"
      },
      "cell_type": "markdown",
      "source": [
        "# **Compilation**\n",
        "\n",
        "Before starting to train our model, we need to configure the learning process, which is done via the compile method. We need to define three important parameters here:\n",
        "\n",
        "*   The loss function that the model will try to minimize.\n",
        "*   The optimiser to minimise the loss function.\n",
        "*   The list of metrics you want the model to compute.\n",
        "\n",
        "In our example, as we are doing classification, we will define the categorical_crossentropy as the loss function and we will compute the accuracy metric. You can refer to Keras documentation to learn more about [losses](https://keras.io/losses/) or [optimisers](https://keras.io/optimizers/). There are many other parameters (learning rate, decay factor, weight normalisation...) than could be manually set, however, those parameters will be address in following weeks. Now, we will use the default values for them. \n",
        "\n"
      ]
    },
    {
      "metadata": {
        "id": "kHasLrmvWtSf",
        "colab_type": "code",
        "colab": {}
      },
      "cell_type": "code",
      "source": [
        "model.compile(loss='categorical_crossentropy',\n",
        "              optimizer='adam',\n",
        "              metrics=['accuracy'])"
      ],
      "execution_count": 0,
      "outputs": []
    },
    {
      "metadata": {
        "id": "iqImvb8kWznJ",
        "colab_type": "text"
      },
      "cell_type": "markdown",
      "source": [
        "# **Training**\n",
        "\n",
        "In order to train the model, we will use the module fit(). We need to define the batch size and the number of total epochs the model is going to train. Once done everything, we are finally ready to train our classifier! "
      ]
    },
    {
      "metadata": {
        "id": "trVlIdWNXUwd",
        "colab_type": "code",
        "outputId": "c5e30da5-e27a-45bd-dafb-f54e17a46782",
        "colab": {
          "base_uri": "https://localhost:8080/",
          "height": 381
        }
      },
      "cell_type": "code",
      "source": [
        "history = model.fit(X_train_flatten, Y_train_class, batch_size=32, epochs=10)"
      ],
      "execution_count": 0,
      "outputs": [
        {
          "output_type": "stream",
          "text": [
            "Epoch 1/10\n",
            "60000/60000 [==============================] - 9s 146us/step - loss: 0.4674 - acc: 0.8781\n",
            "Epoch 2/10\n",
            "60000/60000 [==============================] - 8s 130us/step - loss: 0.3040 - acc: 0.9155\n",
            "Epoch 3/10\n",
            "60000/60000 [==============================] - 8s 132us/step - loss: 0.2834 - acc: 0.9209\n",
            "Epoch 4/10\n",
            "60000/60000 [==============================] - 8s 132us/step - loss: 0.2727 - acc: 0.9234\n",
            "Epoch 5/10\n",
            "60000/60000 [==============================] - 8s 131us/step - loss: 0.2663 - acc: 0.9266\n",
            "Epoch 6/10\n",
            "60000/60000 [==============================] - 8s 131us/step - loss: 0.2619 - acc: 0.9272\n",
            "Epoch 7/10\n",
            "60000/60000 [==============================] - 8s 130us/step - loss: 0.2579 - acc: 0.9286\n",
            "Epoch 8/10\n",
            "60000/60000 [==============================] - 8s 131us/step - loss: 0.2549 - acc: 0.9293\n",
            "Epoch 9/10\n",
            "60000/60000 [==============================] - 8s 131us/step - loss: 0.2527 - acc: 0.9303\n",
            "Epoch 10/10\n",
            "60000/60000 [==============================] - 8s 131us/step - loss: 0.2505 - acc: 0.9312\n"
          ],
          "name": "stdout"
        }
      ]
    },
    {
      "metadata": {
        "id": "yj8MJvUnXzHj",
        "colab_type": "text"
      },
      "cell_type": "markdown",
      "source": [
        "We have trained our first model! \n",
        "\n",
        "Now, imagine we need to train the model until it converges, and we do not know how many epochs it will take. Then, we could use callbacks to define early-stopping rules. In addition, we can use those [callbacks](https://keras.io/callbacks/) to save the model's weights or log history along the training process. We will see later some examples.\n",
        "\n",
        "\n",
        "Sometimes, the training curves can give some information. In order to visualise them, we could use the information saved on the training history:"
      ]
    },
    {
      "metadata": {
        "id": "OGy405W2boBB",
        "colab_type": "code",
        "outputId": "fd3bb5fd-f186-4fd7-a317-bbd5712e4f85",
        "colab": {
          "base_uri": "https://localhost:8080/",
          "height": 395
        }
      },
      "cell_type": "code",
      "source": [
        "fig, axes = plt.subplots(2,1)\n",
        "axes[0].plot(history.history['acc'])\n",
        "axes[0].set_title('Model Accuracy')\n",
        "axes[0].set_ylabel('Accuracy')\n",
        "axes[0].set_xlabel('Epoch')\n",
        "\n",
        "fig.subplots_adjust(hspace=0.5)\n",
        "\n",
        "axes[1].plot(history.history['loss'], 'g')\n",
        "axes[1].set_title('Model Loss')\n",
        "axes[1].set_ylabel('Cross Entropy Loss')\n",
        "axes[1].set_xlabel('Epoch')"
      ],
      "execution_count": 0,
      "outputs": [
        {
          "output_type": "execute_result",
          "data": {
            "text/plain": [
              "Text(0.5,0,u'Epoch')"
            ]
          },
          "metadata": {
            "tags": []
          },
          "execution_count": 16
        },
        {
          "output_type": "display_data",
          "data": {
            "image/png": "[encoded data removed]",
            "text/plain": [
              "<matplotlib.figure.Figure at 0x7fe58008d410>"
            ]
          },
          "metadata": {
            "tags": []
          }
        }
      ]
    },
    {
      "metadata": {
        "id": "1xMgl2FYaSA9",
        "colab_type": "text"
      },
      "cell_type": "markdown",
      "source": [
        "# **Evaluate Model**\n",
        "\n",
        "Finally, we can evaluate our model on the test data:"
      ]
    },
    {
      "metadata": {
        "id": "Dac7-bRJab05",
        "colab_type": "code",
        "outputId": "d722082b-430e-44a1-8b0d-990c692e9ffa",
        "colab": {
          "base_uri": "https://localhost:8080/",
          "height": 74
        }
      },
      "cell_type": "code",
      "source": [
        "score = model.evaluate(X_test_flatten, Y_test_class, verbose=0)\n",
        "print('Test loss:', score[0])\n",
        "print('Test accuracy:', score[1])"
      ],
      "execution_count": 0,
      "outputs": [
        {
          "output_type": "stream",
          "text": [
            "('Test loss:', 0.2623196675568819)\n",
            "('Test accuracy:', 0.9288)\n"
          ],
          "name": "stdout"
        }
      ]
    },
    {
      "metadata": {
        "id": "Jzdmn3rCgo8l",
        "colab_type": "text"
      },
      "cell_type": "markdown",
      "source": [
        "# **Train A Simple Multi-layer Perceptron**\n",
        "\n",
        "Previously, we have trained the simplest network. Here we show how to combine different sequential layers. We define a more complex model in order to see how that affects final test accuracy."
      ]
    },
    {
      "metadata": {
        "id": "WRRqajaThGgf",
        "colab_type": "code",
        "outputId": "f8a89571-2e10-456b-e085-2529d5929a5b",
        "colab": {
          "base_uri": "https://localhost:8080/",
          "height": 254
        }
      },
      "cell_type": "code",
      "source": [
        "model2 = Sequential()\n",
        "model2.add(Dense(100, activation='relu', input_shape=(784,)))\n",
        "model2.add(Dropout(0.2))\n",
        "model2.add(Dense(10, activation='softmax'))\n",
        "\n",
        "model2.summary()"
      ],
      "execution_count": 0,
      "outputs": [
        {
          "output_type": "stream",
          "text": [
            "_________________________________________________________________\n",
            "Layer (type)                 Output Shape              Param #   \n",
            "=================================================================\n",
            "dense_3 (Dense)              (None, 100)               78500     \n",
            "_________________________________________________________________\n",
            "dropout_1 (Dropout)          (None, 100)               0         \n",
            "_________________________________________________________________\n",
            "dense_4 (Dense)              (None, 10)                1010      \n",
            "=================================================================\n",
            "Total params: 79,510\n",
            "Trainable params: 79,510\n",
            "Non-trainable params: 0\n",
            "_________________________________________________________________\n"
          ],
          "name": "stdout"
        }
      ]
    },
    {
      "metadata": {
        "id": "RK4s-S-ihT2v",
        "colab_type": "text"
      },
      "cell_type": "markdown",
      "source": [
        "We have increase the number of parameters from 7,850 to 79,510 in just a few lines! Now we are using an extra dense layer, this one having a higher number of units. Remember that the number of units defines the dimensionality of the output space, that is why, we need the last layer to have the same number of digit classes. \n",
        "\n",
        "In addition, we use ReLU (Rectified Linear Unit) activation function in first dense layer. You can learn more about it [here](https://keras.io/activations/#relu). Moreover, we added a Dropout layer, which is a method for regularising the model in order to prevent overfitting. You can read more about it  [here](https://medium.com/@amarbudhiraja/https-medium-com-amarbudhiraja-learning-less-to-learn-better-dropout-in-deep-machine-learning-74334da4bfc5).\n",
        "\n",
        "As done above, we can train our new model and visualise the model curves:"
      ]
    },
    {
      "metadata": {
        "id": "Ni6ov50rkltw",
        "colab_type": "code",
        "outputId": "5ffdd10d-c30c-4f49-81ac-2fd41bc804b7",
        "colab": {
          "base_uri": "https://localhost:8080/",
          "height": 758
        }
      },
      "cell_type": "code",
      "source": [
        "model2.compile(loss='categorical_crossentropy',\n",
        "              optimizer='adam',\n",
        "              metrics=['accuracy'])\n",
        "\n",
        "history2 = model2.fit(X_train_flatten, Y_train_class, batch_size=32, epochs=10)\n",
        "\n",
        "fig, axes = plt.subplots(2,1)\n",
        "axes[0].plot(history2.history['acc'])\n",
        "axes[0].set_title('Model Accuracy')\n",
        "axes[0].set_ylabel('Accuracy')\n",
        "axes[0].set_xlabel('Epoch')\n",
        "\n",
        "fig.subplots_adjust(hspace=0.5)\n",
        "\n",
        "axes[1].plot(history2.history['loss'], 'g')\n",
        "axes[1].set_title('Model Loss')\n",
        "axes[1].set_ylabel('Cross Entropy Loss')\n",
        "axes[1].set_xlabel('Epoch')"
      ],
      "execution_count": 0,
      "outputs": [
        {
          "output_type": "stream",
          "text": [
            "Epoch 1/10\n",
            "60000/60000 [==============================] - 10s 166us/step - loss: 0.3208 - acc: 0.9081\n",
            "Epoch 2/10\n",
            "60000/60000 [==============================] - 10s 163us/step - loss: 0.1570 - acc: 0.9536\n",
            "Epoch 3/10\n",
            "60000/60000 [==============================] - 10s 161us/step - loss: 0.1196 - acc: 0.9644\n",
            "Epoch 4/10\n",
            "60000/60000 [==============================] - 10s 162us/step - loss: 0.1011 - acc: 0.9685\n",
            "Epoch 5/10\n",
            "60000/60000 [==============================] - 10s 163us/step - loss: 0.0885 - acc: 0.9729\n",
            "Epoch 6/10\n",
            "60000/60000 [==============================] - 10s 163us/step - loss: 0.0789 - acc: 0.9752\n",
            "Epoch 7/10\n",
            "60000/60000 [==============================] - 10s 162us/step - loss: 0.0710 - acc: 0.9779\n",
            "Epoch 8/10\n",
            "60000/60000 [==============================] - 10s 163us/step - loss: 0.0667 - acc: 0.9782\n",
            "Epoch 9/10\n",
            "60000/60000 [==============================] - 10s 161us/step - loss: 0.0605 - acc: 0.9800\n",
            "Epoch 10/10\n",
            "60000/60000 [==============================] - 10s 166us/step - loss: 0.0561 - acc: 0.9816\n"
          ],
          "name": "stdout"
        },
        {
          "output_type": "execute_result",
          "data": {
            "text/plain": [
              "Text(0.5,0,u'Epoch')"
            ]
          },
          "metadata": {
            "tags": []
          },
          "execution_count": 19
        },
        {
          "output_type": "display_data",
          "data": {
            "image/png": "[encoded data removed]",
            "text/plain": [
              "<matplotlib.figure.Figure at 0x7fe56cf22f90>"
            ]
          },
          "metadata": {
            "tags": []
          }
        }
      ]
    },
    {
      "metadata": {
        "id": "LDcMSVr_l6C3",
        "colab_type": "text"
      },
      "cell_type": "markdown",
      "source": [
        "We have now trained the two models, and we can see how this extra layer and the regularisation term improves results:"
      ]
    },
    {
      "metadata": {
        "id": "cnk6_wuemCXO",
        "colab_type": "code",
        "outputId": "64d2e1be-921b-4942-c44f-e0d66b0757b0",
        "colab": {
          "base_uri": "https://localhost:8080/",
          "height": 126
        }
      },
      "cell_type": "code",
      "source": [
        "print('Old model:')\n",
        "print('Test loss:', score[0])\n",
        "print('Test accuracy:', score[1])\n",
        "\n",
        "print('New model:')\n",
        "score2 = model2.evaluate(X_test_flatten, Y_test_class, verbose=0)\n",
        "print('Test loss:', score2[0])\n",
        "print('Test accuracy:', score2[1])"
      ],
      "execution_count": 0,
      "outputs": [
        {
          "output_type": "stream",
          "text": [
            "Old model:\n",
            "('Test loss:', 0.2623196675568819)\n",
            "('Test accuracy:', 0.9288)\n",
            "New model:\n",
            "('Test loss:', 0.07408983775803936)\n",
            "('Test accuracy:', 0.9779)\n"
          ],
          "name": "stdout"
        }
      ]
    },
    {
      "metadata": {
        "id": "a-DHj7P7n1Eh",
        "colab_type": "text"
      },
      "cell_type": "markdown",
      "source": [
        "We have improved accuracy results on test, however, there is still a lot of margin for parameter tuning. Do you think you can change the model and improve results?"
      ]
    },
    {
      "metadata": {
        "id": "9XyUx6ThaT47",
        "colab_type": "text"
      },
      "cell_type": "markdown",
      "source": [
        "# **Save/Load Model**\n",
        "\n",
        "Some networks will require long training times (hours, days or even weeks), it is essential then to know how to save models for using them afterwards without the need of performing the training each time. \n",
        "\n",
        "We can save and load the trained model in different ways.\n",
        "\n",
        "Saving the Keras model into a single HDF5 file, which will contain:\n",
        "\n",
        "*   the architecture of the model, allowing to re-create the model\n",
        "*   the weights of the model\n",
        "*   the training configuration (loss, optimiser)\n",
        "*   the state of the optimiser, allowing to resume training exactly where you left off.\n",
        "\n",
        "[Here](https://keras.io/getting-started/faq/#how-can-i-save-a-keras-model) you can find more information about the process.\n"
      ]
    },
    {
      "metadata": {
        "id": "0KJp2Pj2aTOc",
        "colab_type": "code",
        "colab": {}
      },
      "cell_type": "code",
      "source": [
        "from keras.models import load_model\n",
        "\n",
        "model.save('my_model.h5')  # creates a HDF5 file 'my_model.h5'\n",
        "del model  # deletes the existing model\n",
        "\n",
        "# Load a compiled model identical to the previous one\n",
        "model = load_model('my_model.h5') "
      ],
      "execution_count": 0,
      "outputs": []
    },
    {
      "metadata": {
        "id": "vD5h5qsUblji",
        "colab_type": "text"
      },
      "cell_type": "markdown",
      "source": [
        "Saving the model and weights independently:\n",
        "\n",
        "\n"
      ]
    },
    {
      "metadata": {
        "id": "dJXTYfTDcaWs",
        "colab_type": "code",
        "colab": {}
      },
      "cell_type": "code",
      "source": [
        "model.save_weights('my_model_weights.h5') # creates a HDF5 file 'my_model_weights.h5'\n",
        "\n",
        "with open('my_model_architecture.json', 'w') as f:\n",
        "    f.write(model.to_json()) # creates a json file 'my_model_architecture.json'"
      ],
      "execution_count": 0,
      "outputs": []
    },
    {
      "metadata": {
        "id": "wPgCrD4Leony",
        "colab_type": "text"
      },
      "cell_type": "markdown",
      "source": [
        "If we want to load the model, without having to instantiate it, we can directly use model_from_json module:"
      ]
    },
    {
      "metadata": {
        "id": "gXr0L8nqeipI",
        "colab_type": "code",
        "colab": {}
      },
      "cell_type": "code",
      "source": [
        "from keras.models import model_from_json\n",
        "\n",
        "# Model reconstruction from JSON file\n",
        "with open('my_model_architecture.json', 'r') as f:\n",
        "    model = model_from_json(f.read())"
      ],
      "execution_count": 0,
      "outputs": []
    },
    {
      "metadata": {
        "id": "NzmL07T_dh7Z",
        "colab_type": "text"
      },
      "cell_type": "markdown",
      "source": [
        "If we do not load the model, but we have instantiated it, we can then load the weights directly:"
      ]
    },
    {
      "metadata": {
        "id": "yBahatkweEZx",
        "colab_type": "code",
        "colab": {}
      },
      "cell_type": "code",
      "source": [
        "model.load_weights('my_model_weights.h5')"
      ],
      "execution_count": 0,
      "outputs": []
    },
    {
      "metadata": {
        "id": "nwXWMk1vdm48",
        "colab_type": "text"
      },
      "cell_type": "markdown",
      "source": [
        "Imagine now that we modify the model and the new model shares some layers in common with the saved one. This situation is common when you do things like fine-tuning or transfer-learning, among others. We could then load the weights into a different architecture by layer name:"
      ]
    },
    {
      "metadata": {
        "id": "KAGF3VbPdroU",
        "colab_type": "code",
        "colab": {}
      },
      "cell_type": "code",
      "source": [
        "model.load_weights('my_model_weights.h5', by_name=True)"
      ],
      "execution_count": 0,
      "outputs": []
    },
    {
      "metadata": {
        "id": "-6v_S7oxfUQC",
        "colab_type": "text"
      },
      "cell_type": "markdown",
      "source": [
        "# **Obtain output of an intermediate layer**\n",
        "\n",
        "Sometimes we need to check how features of intermediate layers look like. This can be used for extracting features, but also for debugging purposes. That is why, we need to see how we can extract information of a trained architecture.\n",
        "\n",
        "The easiest way is to define a new model that will have as final output the given output of an specific layer. We first define the model:"
      ]
    },
    {
      "metadata": {
        "id": "dZa6sDFLgXoC",
        "colab_type": "code",
        "outputId": "4e5f399a-f823-46a2-f547-5aefd792d016",
        "colab": {
          "base_uri": "https://localhost:8080/",
          "height": 326
        }
      },
      "cell_type": "code",
      "source": [
        "model = Sequential()\n",
        "model.add(Dense(64, activation='relu', input_shape=(784,), name='first_dense'))\n",
        "model.add(Dropout(0.2))\n",
        "model.add(Dense(128, activation='relu', input_shape=(784,), name='second_dense'))\n",
        "model.add(Dropout(0.2))\n",
        "model.add(Dense(10, activation='softmax', name='final_dense'))\n",
        "\n",
        "model.summary()\n",
        "\n"
      ],
      "execution_count": 0,
      "outputs": [
        {
          "output_type": "stream",
          "text": [
            "_________________________________________________________________\n",
            "Layer (type)                 Output Shape              Param #   \n",
            "=================================================================\n",
            "first_dense (Dense)          (None, 64)                50240     \n",
            "_________________________________________________________________\n",
            "dropout_2 (Dropout)          (None, 64)                0         \n",
            "_________________________________________________________________\n",
            "second_dense (Dense)         (None, 128)               8320      \n",
            "_________________________________________________________________\n",
            "dropout_3 (Dropout)          (None, 128)               0         \n",
            "_________________________________________________________________\n",
            "final_dense (Dense)          (None, 10)                1290      \n",
            "=================================================================\n",
            "Total params: 59,850\n",
            "Trainable params: 59,850\n",
            "Non-trainable params: 0\n",
            "_________________________________________________________________\n"
          ],
          "name": "stdout"
        }
      ]
    },
    {
      "metadata": {
        "id": "hoXvhyLzhKU2",
        "colab_type": "text"
      },
      "cell_type": "markdown",
      "source": [
        "Now, we specify the name of the layer in which we are interested to obtain the output, in our example, it is the first dense layer:"
      ]
    },
    {
      "metadata": {
        "id": "8Zu29bschSps",
        "colab_type": "code",
        "outputId": "92e0ffe6-5f2a-48e1-fb9a-4d8cbef280a4",
        "colab": {
          "base_uri": "https://localhost:8080/",
          "height": 54
        }
      },
      "cell_type": "code",
      "source": [
        "from keras.models import Model\n",
        "\n",
        "layer_name = 'second_dense'\n",
        "intermediate_layer_model = Model(inputs=model.input,\n",
        "                                 outputs=model.get_layer(layer_name).output)\n",
        "intermediate_output = intermediate_layer_model.predict(X_test_flatten)\n",
        "final_output = model.predict(X_test_flatten)\n",
        "\n",
        "print('Second dense layer output shape: {0}'.format(intermediate_output.shape))\n",
        "print('Final output shape: {0}'.format(final_output.shape))"
      ],
      "execution_count": 0,
      "outputs": [
        {
          "output_type": "stream",
          "text": [
            "Second dense layer output shape: (10000, 128)\n",
            "Final output shape: (10000, 10)\n"
          ],
          "name": "stdout"
        }
      ]
    },
    {
      "metadata": {
        "id": "HFo0jHRqiJv2",
        "colab_type": "text"
      },
      "cell_type": "markdown",
      "source": [
        "Alternatively, we could build a Keras function that will return the output of a certain layer given a certain input, for example:"
      ]
    },
    {
      "metadata": {
        "id": "msvYp1c9iNEX",
        "colab_type": "code",
        "outputId": "fe69827f-1bc9-4f5d-fe63-faac892a3576",
        "colab": {
          "base_uri": "https://localhost:8080/",
          "height": 54
        }
      },
      "cell_type": "code",
      "source": [
        "from keras import backend as K\n",
        "\n",
        "get_second_dense_layer_output = K.function([model.layers[0].input],\n",
        "                                  [model.layers[2].output])\n",
        "\n",
        "intermediate_output = get_second_dense_layer_output([X_test_flatten])[0]\n",
        "final_output = model.predict(X_test_flatten)\n",
        "\n",
        "print('Second dense layer output shape: {0}'.format(intermediate_output.shape))\n",
        "print('Final output shape: {0}'.format(final_output.shape))"
      ],
      "execution_count": 0,
      "outputs": [
        {
          "output_type": "stream",
          "text": [
            "Second dense layer output shape: (10000, 128)\n",
            "Final output shape: (10000, 10)\n"
          ],
          "name": "stdout"
        }
      ]
    },
    {
      "metadata": {
        "id": "iV22i-GFj5np",
        "colab_type": "text"
      },
      "cell_type": "markdown",
      "source": [
        "# **Use a Callback Function**\n",
        "\n",
        "We talked about callbacks already, and you can find a complete list here.\n",
        "\n",
        "Controlling and managing callbacks is essential when training big models. Sometimes we want the network to train until it converges, but we are not able to determine the number of epochs it will take, therefore we need some mechanism to stop it. Let's see how to stop the training when the validation loss is not decreasing anymore:"
      ]
    },
    {
      "metadata": {
        "id": "GNShEzC-kdKN",
        "colab_type": "code",
        "outputId": "c562b621-7dc4-4d68-e456-2824479be685",
        "colab": {
          "base_uri": "https://localhost:8080/",
          "height": 90
        }
      },
      "cell_type": "code",
      "source": [
        "from keras.callbacks import EarlyStopping\n",
        "\n",
        "# Define the metric that will determine the earlyStopping\n",
        "early_stopping = EarlyStopping(monitor='val_loss', patience=2)\n",
        "\n",
        "# We use an already training model to speed up the example\n",
        "model2.fit(X_train_flatten, Y_train_class, validation_split=0.2, \n",
        "            batch_size=32, callbacks=[early_stopping])"
      ],
      "execution_count": 0,
      "outputs": [
        {
          "output_type": "stream",
          "text": [
            "Train on 48000 samples, validate on 12000 samples\n",
            "Epoch 1/1\n",
            "48000/48000 [==============================] - 8s 176us/step - loss: 0.0510 - acc: 0.9832 - val_loss: 0.0277 - val_acc: 0.9918\n"
          ],
          "name": "stdout"
        },
        {
          "output_type": "execute_result",
          "data": {
            "text/plain": [
              "<keras.callbacks.History at 0x7fe56c897890>"
            ]
          },
          "metadata": {
            "tags": []
          },
          "execution_count": 29
        }
      ]
    },
    {
      "metadata": {
        "id": "meMroifllkIN",
        "colab_type": "text"
      },
      "cell_type": "markdown",
      "source": [
        "We can combine multiple callbacks when calling the fit module, learn more about it  [here](https://keras.io/callbacks/)."
      ]
    },
    {
      "metadata": {
        "id": "3w4AVBmLCDJe",
        "colab_type": "text"
      },
      "cell_type": "markdown",
      "source": [
        "# **Freeze Keras Layers**\n",
        "\n",
        "Sometime we need to fix the weights of some layers, meaning that we will exclude them from training, i.e. their weights will never be updated. This is useful in the context of fine-tuning a model, or, for instance, when using fixed embeddings for text inputs. \n",
        "\n",
        "In order to do so, we can pass a trainable argument (Boolean) to a layer constructor to set a layer to be non-trainable:"
      ]
    },
    {
      "metadata": {
        "id": "Q6x8F5hZDLWH",
        "colab_type": "code",
        "colab": {}
      },
      "cell_type": "code",
      "source": [
        "frozen_layer = Dense(32, trainable=False)"
      ],
      "execution_count": 0,
      "outputs": []
    },
    {
      "metadata": {
        "id": "3s-5Bm8ODNe0",
        "colab_type": "text"
      },
      "cell_type": "markdown",
      "source": [
        "Additionally, we can set the trainable property of a layer to True or False after instantiation. For this to take effect, we will need to call compile() on our model after modifying the trainable property:"
      ]
    },
    {
      "metadata": {
        "id": "MTnjPeE7DjEs",
        "colab_type": "code",
        "outputId": "b3010214-a61b-4743-87af-aa28f47c0ac1",
        "colab": {
          "base_uri": "https://localhost:8080/",
          "height": 799
        }
      },
      "cell_type": "code",
      "source": [
        "from keras.models import clone_model\n",
        " \n",
        "model = Sequential()\n",
        "model.add(Dense(10, activation='relu', input_shape=(784,)))\n",
        "\n",
        "# We clone model in frozen_model\n",
        "frozen_model = clone_model(model)\n",
        "frozen_model.layers[0].trainable = False\n",
        "\n",
        "# with this model the weights of the layer will be updated during training\n",
        "model.compile(loss='categorical_crossentropy',\n",
        "              optimizer='adam',\n",
        "              metrics=['accuracy'])\n",
        "\n",
        "# in the model below, the weights of `layer` will not be updated during training\n",
        "frozen_model.compile(loss='categorical_crossentropy',\n",
        "              optimizer='adam',\n",
        "              metrics=['accuracy'])\n",
        "\n",
        "model.summary()\n",
        "frozen_model.summary()\n",
        "\n",
        "score_untrained = model.evaluate(X_test_flatten, Y_test_class, verbose=0)\n",
        "score_frozen_untrained = frozen_model.evaluate(X_test_flatten, Y_test_class, verbose=0)\n",
        "\n",
        "# Uupdate the weights of `layer`\n",
        "print('Train Models:/n')\n",
        "model.fit(X_train_flatten, Y_train_class, batch_size=32, epochs=5)\n",
        "\n",
        "# Next operation will NOT update the weights of `layer`.\n",
        "# (which will also affect the above model since it uses the same layer instance)\n",
        "frozen_model.fit(X_train_flatten, Y_train_class, batch_size=32, epochs=5)\n",
        "\n",
        "score = model.evaluate(X_test_flatten, Y_test_class, verbose=0)\n",
        "score_frozen = frozen_model.evaluate(X_test_flatten, Y_test_class, verbose=0)\n",
        "\n",
        "print('Before Training: Trainable Model Test Accuracy:', score_untrained[1])\n",
        "print('After Training:  Trainable Model Test Accuracy:', score[1])\n",
        "\n",
        "print('Before Training: Frozen Model Test Accuracy:', score_frozen_untrained[1])\n",
        "print('After Training:  Frozen Model Test Accuracy:', score_frozen[1])"
      ],
      "execution_count": 0,
      "outputs": [
        {
          "output_type": "stream",
          "text": [
            "_________________________________________________________________\n",
            "Layer (type)                 Output Shape              Param #   \n",
            "=================================================================\n",
            "dense_7 (Dense)              (None, 10)                7850      \n",
            "=================================================================\n",
            "Total params: 7,850\n",
            "Trainable params: 7,850\n",
            "Non-trainable params: 0\n",
            "_________________________________________________________________\n",
            "_________________________________________________________________\n",
            "Layer (type)                 Output Shape              Param #   \n",
            "=================================================================\n",
            "dense_7 (Dense)              (None, 10)                7850      \n",
            "=================================================================\n",
            "Total params: 7,850\n",
            "Trainable params: 0\n",
            "Non-trainable params: 7,850\n",
            "_________________________________________________________________\n",
            "Train Models:/n\n",
            "Epoch 1/5\n",
            "60000/60000 [==============================] - 8s 134us/step - loss: 1.2762 - acc: 0.8196\n",
            "Epoch 2/5\n",
            "60000/60000 [==============================] - 8s 131us/step - loss: 0.8598 - acc: 0.8646\n",
            "Epoch 3/5\n",
            "60000/60000 [==============================] - 8s 131us/step - loss: 0.7877 - acc: 0.8777\n",
            "Epoch 4/5\n",
            "60000/60000 [==============================] - 8s 131us/step - loss: 0.7628 - acc: 0.8781\n",
            "Epoch 5/5\n",
            "60000/60000 [==============================] - 8s 131us/step - loss: 0.7333 - acc: 0.8843\n",
            "Epoch 1/5\n",
            "60000/60000 [==============================] - 4s 61us/step - loss: 8.0906 - acc: 0.1211\n",
            "Epoch 2/5\n",
            "60000/60000 [==============================] - 4s 60us/step - loss: 8.0906 - acc: 0.1211\n",
            "Epoch 3/5\n",
            "60000/60000 [==============================] - 4s 60us/step - loss: 8.0906 - acc: 0.1211\n",
            "Epoch 4/5\n",
            "60000/60000 [==============================] - 4s 60us/step - loss: 8.0906 - acc: 0.1211\n",
            "Epoch 5/5\n",
            "60000/60000 [==============================] - 4s 59us/step - loss: 8.0906 - acc: 0.1211\n",
            "('Before Training: Trainable Model Test Accuracy:', 0.1048)\n",
            "('After Training:  Trainable Model Test Accuracy:', 0.8923)\n",
            "('Before Training: Frozen Model Test Accuracy:', 0.1167)\n",
            "('After Training:  Frozen Model Test Accuracy:', 0.1167)\n"
          ],
          "name": "stdout"
        }
      ]
    },
    {
      "metadata": {
        "id": "mLmeoTdqhmhX",
        "colab_type": "text"
      },
      "cell_type": "markdown",
      "source": [
        "We can see in the model description that the frozen model has 0 trainable parameters, while it has 7,850 non-trainable parameters.\n",
        "\n",
        "After training the network, we see how the trainable model improves the accuracy while the frozen one does not change its accuracy."
      ]
    }
  ]
}